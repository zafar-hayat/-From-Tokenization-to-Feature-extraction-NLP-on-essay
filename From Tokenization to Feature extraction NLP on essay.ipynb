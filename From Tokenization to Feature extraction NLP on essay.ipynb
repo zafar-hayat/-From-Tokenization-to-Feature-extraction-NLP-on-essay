{
 "cells": [
  {
   "cell_type": "code",
   "execution_count": 54,
   "metadata": {},
   "outputs": [
    {
     "name": "stdout",
     "output_type": "stream",
     "text": [
      "Requirement already satisfied: nltk in c:\\users\\asim\\anaconda3\\lib\\site-packages (3.5)\n",
      "Requirement already satisfied: tqdm in c:\\users\\asim\\anaconda3\\lib\\site-packages (from nltk) (4.47.0)\n",
      "Requirement already satisfied: joblib in c:\\users\\asim\\anaconda3\\lib\\site-packages (from nltk) (0.16.0)\n",
      "Requirement already satisfied: click in c:\\users\\asim\\anaconda3\\lib\\site-packages (from nltk) (7.1.2)\n",
      "Requirement already satisfied: regex in c:\\users\\asim\\anaconda3\\lib\\site-packages (from nltk) (2020.6.8)\n",
      "\n",
      "[notice] A new release of pip available: 22.1.2 -> 22.2.2\n",
      "[notice] To update, run: python.exe -m pip install --upgrade pip\n"
     ]
    }
   ],
   "source": [
    "!pip install nltk"
   ]
  },
  {
   "cell_type": "code",
   "execution_count": 220,
   "metadata": {},
   "outputs": [],
   "source": [
    "with open('essay.txt', 'r+') as essay:\n",
    "    a=essay.read()\n"
   ]
  },
  {
   "cell_type": "markdown",
   "metadata": {},
   "source": [
    "### a=str(a)"
   ]
  },
  {
   "cell_type": "code",
   "execution_count": 221,
   "metadata": {},
   "outputs": [
    {
     "data": {
      "text/plain": [
       "'Global Warming is a term almost everyone is familiar with. But, its meaning is still not clear to most of us. So, Global warming refers to the gradual rise in the overall temperature of the atmosphere of the Earth. There are various activities taking place which have been increasing the temperature gradually. Global warming is melting our ice glaciers rapidly. This is extremely harmful to the earth as well as humans. It is quite challenging to control global warming; however, it is not unmanageable. The first step in solving any problem is identifying the cause of the problem. Therefore, we need to first understand the causes of global warming that will help us proceed further in solving it. In this essay on Global Warming, we will see the causes and solutions of Global Warming.\\nThe first step in solving any problem is identifying the cause of the problem. Therefore, we need to first understand the causes of global warming that will help us proceed further in solving it. In this essay on Global Warming, we will see the causes and solutions of Global Warming.'"
      ]
     },
     "execution_count": 221,
     "metadata": {},
     "output_type": "execute_result"
    }
   ],
   "source": [
    "a"
   ]
  },
  {
   "cell_type": "code",
   "execution_count": 222,
   "metadata": {},
   "outputs": [
    {
     "name": "stderr",
     "output_type": "stream",
     "text": [
      "[nltk_data] Downloading package punkt to\n",
      "[nltk_data]     C:\\Users\\ASIM\\AppData\\Roaming\\nltk_data...\n",
      "[nltk_data]   Package punkt is already up-to-date!\n"
     ]
    },
    {
     "data": {
      "text/plain": [
       "True"
      ]
     },
     "execution_count": 222,
     "metadata": {},
     "output_type": "execute_result"
    }
   ],
   "source": [
    "import nltk\n",
    "nltk.download('punkt')"
   ]
  },
  {
   "cell_type": "code",
   "execution_count": 223,
   "metadata": {},
   "outputs": [
    {
     "data": {
      "text/plain": [
       "['Global Warming is a term almost everyone is familiar with.',\n",
       " 'But, its meaning is still not clear to most of us.',\n",
       " 'So, Global warming refers to the gradual rise in the overall temperature of the atmosphere of the Earth.',\n",
       " 'There are various activities taking place which have been increasing the temperature gradually.',\n",
       " 'Global warming is melting our ice glaciers rapidly.',\n",
       " 'This is extremely harmful to the earth as well as humans.',\n",
       " 'It is quite challenging to control global warming; however, it is not unmanageable.',\n",
       " 'The first step in solving any problem is identifying the cause of the problem.',\n",
       " 'Therefore, we need to first understand the causes of global warming that will help us proceed further in solving it.',\n",
       " 'In this essay on Global Warming, we will see the causes and solutions of Global Warming.',\n",
       " 'The first step in solving any problem is identifying the cause of the problem.',\n",
       " 'Therefore, we need to first understand the causes of global warming that will help us proceed further in solving it.',\n",
       " 'In this essay on Global Warming, we will see the causes and solutions of Global Warming.']"
      ]
     },
     "execution_count": 223,
     "metadata": {},
     "output_type": "execute_result"
    }
   ],
   "source": [
    "sentences = nltk.sent_tokenize(a)\n",
    "sentences"
   ]
  },
  {
   "cell_type": "code",
   "execution_count": 224,
   "metadata": {},
   "outputs": [
    {
     "data": {
      "text/plain": [
       "13"
      ]
     },
     "execution_count": 224,
     "metadata": {},
     "output_type": "execute_result"
    }
   ],
   "source": [
    "len(sentences)"
   ]
  },
  {
   "cell_type": "code",
   "execution_count": 228,
   "metadata": {},
   "outputs": [
    {
     "data": {
      "text/plain": [
       "['Global Warming is a term almost everyone is familiar with.',\n",
       " 'But, its meaning is still not clear to most of us.',\n",
       " 'So, Global warming refers to the gradual rise in the overall temperature of the atmosphere of the Earth.',\n",
       " 'There are various activities taking place which have been increasing the temperature gradually.',\n",
       " 'Global warming is melting our ice glaciers rapidly.',\n",
       " 'This is extremely harmful to the earth as well as humans.',\n",
       " 'It is quite challenging to control global warming; however, it is not unmanageable.',\n",
       " 'The first step in solving any problem is identifying the cause of the problem.',\n",
       " 'Therefore, we need to first understand the causes of global warming that will help us proceed further in solving it.',\n",
       " 'In this essay on Global Warming, we will see the causes and solutions of Global Warming.',\n",
       " 'The first step in solving any problem is identifying the cause of the problem.',\n",
       " 'Therefore, we need to first understand the causes of global warming that will help us proceed further in solving it.',\n",
       " 'In this essay on Global Warming, we will see the causes and solutions of Global Warming.']"
      ]
     },
     "execution_count": 228,
     "metadata": {},
     "output_type": "execute_result"
    }
   ],
   "source": [
    "sentences"
   ]
  },
  {
   "cell_type": "code",
   "execution_count": 230,
   "metadata": {},
   "outputs": [],
   "source": [
    "#word tokenize"
   ]
  },
  {
   "cell_type": "code",
   "execution_count": 243,
   "metadata": {},
   "outputs": [
    {
     "name": "stdout",
     "output_type": "stream",
     "text": [
      "[['Global', 'Warming', 'is', 'a', 'term', 'almost', 'everyone', 'is', 'familiar', 'with', '.'], ['But', ',', 'its', 'meaning', 'is', 'still', 'not', 'clear', 'to', 'most', 'of', 'us', '.'], ['So', ',', 'Global', 'warming', 'refers', 'to', 'the', 'gradual', 'rise', 'in', 'the', 'overall', 'temperature', 'of', 'the', 'atmosphere', 'of', 'the', 'Earth', '.'], ['There', 'are', 'various', 'activities', 'taking', 'place', 'which', 'have', 'been', 'increasing', 'the', 'temperature', 'gradually', '.'], ['Global', 'warming', 'is', 'melting', 'our', 'ice', 'glaciers', 'rapidly', '.'], ['This', 'is', 'extremely', 'harmful', 'to', 'the', 'earth', 'as', 'well', 'as', 'humans', '.'], ['It', 'is', 'quite', 'challenging', 'to', 'control', 'global', 'warming', ';', 'however', ',', 'it', 'is', 'not', 'unmanageable', '.'], ['The', 'first', 'step', 'in', 'solving', 'any', 'problem', 'is', 'identifying', 'the', 'cause', 'of', 'the', 'problem', '.'], ['Therefore', ',', 'we', 'need', 'to', 'first', 'understand', 'the', 'causes', 'of', 'global', 'warming', 'that', 'will', 'help', 'us', 'proceed', 'further', 'in', 'solving', 'it', '.'], ['In', 'this', 'essay', 'on', 'Global', 'Warming', ',', 'we', 'will', 'see', 'the', 'causes', 'and', 'solutions', 'of', 'Global', 'Warming', '.'], ['The', 'first', 'step', 'in', 'solving', 'any', 'problem', 'is', 'identifying', 'the', 'cause', 'of', 'the', 'problem', '.'], ['Therefore', ',', 'we', 'need', 'to', 'first', 'understand', 'the', 'causes', 'of', 'global', 'warming', 'that', 'will', 'help', 'us', 'proceed', 'further', 'in', 'solving', 'it', '.'], ['In', 'this', 'essay', 'on', 'Global', 'Warming', ',', 'we', 'will', 'see', 'the', 'causes', 'and', 'solutions', 'of', 'Global', 'Warming', '.']]\n"
     ]
    }
   ],
   "source": [
    "wordy = []\n",
    "for sent in range(len(sentences)):\n",
    "    #sen = sentences[sent]\n",
    "    #sen = ' '.join(sen)\n",
    "    #senty.append(sen)\n",
    "    words = word_tokenize(sentences[sent])\n",
    "    #words = ' '.join(words)\n",
    "    wordy.append(words)\n",
    "    #print(words)\n",
    "print(wordy)"
   ]
  },
  {
   "cell_type": "code",
   "execution_count": 244,
   "metadata": {},
   "outputs": [
    {
     "data": {
      "text/plain": [
       "13"
      ]
     },
     "execution_count": 244,
     "metadata": {},
     "output_type": "execute_result"
    }
   ],
   "source": [
    "len(wordy)"
   ]
  },
  {
   "cell_type": "code",
   "execution_count": 232,
   "metadata": {},
   "outputs": [],
   "source": [
    "from nltk.stem import PorterStemmer"
   ]
  },
  {
   "cell_type": "code",
   "execution_count": 242,
   "metadata": {},
   "outputs": [
    {
     "name": "stdout",
     "output_type": "stream",
     "text": [
      "['global', 'warm', 'is', 'a', 'term', 'almost', 'everyon', 'is', 'familiar', 'with', '.', 'but', ',', 'it', 'mean', 'is', 'still', 'not', 'clear', 'to', 'most', 'of', 'us', '.', 'So', ',', 'global', 'warm', 'refer', 'to', 'the', 'gradual', 'rise', 'in', 'the', 'overal', 'temperatur', 'of', 'the', 'atmospher', 'of', 'the', 'earth', '.', 'there', 'are', 'variou', 'activ', 'take', 'place', 'which', 'have', 'been', 'increas', 'the', 'temperatur', 'gradual', '.', 'global', 'warm', 'is', 'melt', 'our', 'ice', 'glacier', 'rapidli', '.', 'thi', 'is', 'extrem', 'harm', 'to', 'the', 'earth', 'as', 'well', 'as', 'human', '.', 'It', 'is', 'quit', 'challeng', 'to', 'control', 'global', 'warm', ';', 'howev', ',', 'it', 'is', 'not', 'unmanag', '.', 'the', 'first', 'step', 'in', 'solv', 'ani', 'problem', 'is', 'identifi', 'the', 'caus', 'of', 'the', 'problem', '.', 'therefor', ',', 'we', 'need', 'to', 'first', 'understand', 'the', 'caus', 'of', 'global', 'warm', 'that', 'will', 'help', 'us', 'proceed', 'further', 'in', 'solv', 'it', '.', 'In', 'thi', 'essay', 'on', 'global', 'warm', ',', 'we', 'will', 'see', 'the', 'caus', 'and', 'solut', 'of', 'global', 'warm', '.', 'the', 'first', 'step', 'in', 'solv', 'ani', 'problem', 'is', 'identifi', 'the', 'caus', 'of', 'the', 'problem', '.', 'therefor', ',', 'we', 'need', 'to', 'first', 'understand', 'the', 'caus', 'of', 'global', 'warm', 'that', 'will', 'help', 'us', 'proceed', 'further', 'in', 'solv', 'it', '.', 'In', 'thi', 'essay', 'on', 'global', 'warm', ',', 'we', 'will', 'see', 'the', 'caus', 'and', 'solut', 'of', 'global', 'warm', '.']\n"
     ]
    }
   ],
   "source": [
    "\n",
    "stemmer = PorterStemmer()\n",
    "stem_list=[]\n",
    "for w in wordy:\n",
    "    for i in w:\n",
    "        stemmed = stemmer.stem(i)\n",
    "        stem_list.append(stemmed)\n",
    "print(stem_list)"
   ]
  },
  {
   "cell_type": "code",
   "execution_count": 245,
   "metadata": {},
   "outputs": [
    {
     "name": "stderr",
     "output_type": "stream",
     "text": [
      "[nltk_data] Downloading package wordnet to\n",
      "[nltk_data]     C:\\Users\\ASIM\\AppData\\Roaming\\nltk_data...\n",
      "[nltk_data]   Package wordnet is already up-to-date!\n",
      "[nltk_data] Downloading package omw-1.4 to\n",
      "[nltk_data]     C:\\Users\\ASIM\\AppData\\Roaming\\nltk_data...\n",
      "[nltk_data]   Package omw-1.4 is already up-to-date!\n"
     ]
    },
    {
     "data": {
      "text/plain": [
       "True"
      ]
     },
     "execution_count": 245,
     "metadata": {},
     "output_type": "execute_result"
    }
   ],
   "source": [
    "from nltk.stem import WordNetLemmatizer\n",
    "nltk.download('wordnet')\n",
    "nltk.download('omw-1.4')"
   ]
  },
  {
   "cell_type": "code",
   "execution_count": 254,
   "metadata": {},
   "outputs": [
    {
     "name": "stdout",
     "output_type": "stream",
     "text": [
      "['Global', 'Warming', 'is', 'a', 'term', 'almost', 'everyone', 'is', 'familiar', 'with', '.', 'But', ',', 'it', 'meaning', 'is', 'still', 'not', 'clear', 'to', 'most', 'of', 'u', '.', 'So', ',', 'Global', 'warming', 'refers', 'to', 'the', 'gradual', 'rise', 'in', 'the', 'overall', 'temperature', 'of', 'the', 'atmosphere', 'of', 'the', 'Earth', '.', 'There', 'are', 'various', 'activity', 'taking', 'place', 'which', 'have', 'been', 'increasing', 'the', 'temperature', 'gradually', '.', 'Global', 'warming', 'is', 'melting', 'our', 'ice', 'glacier', 'rapidly', '.', 'This', 'is', 'extremely', 'harmful', 'to', 'the', 'earth', 'a', 'well', 'a', 'human', '.', 'It', 'is', 'quite', 'challenging', 'to', 'control', 'global', 'warming', ';', 'however', ',', 'it', 'is', 'not', 'unmanageable', '.', 'The', 'first', 'step', 'in', 'solving', 'any', 'problem', 'is', 'identifying', 'the', 'cause', 'of', 'the', 'problem', '.', 'Therefore', ',', 'we', 'need', 'to', 'first', 'understand', 'the', 'cause', 'of', 'global', 'warming', 'that', 'will', 'help', 'u', 'proceed', 'further', 'in', 'solving', 'it', '.', 'In', 'this', 'essay', 'on', 'Global', 'Warming', ',', 'we', 'will', 'see', 'the', 'cause', 'and', 'solution', 'of', 'Global', 'Warming', '.', 'The', 'first', 'step', 'in', 'solving', 'any', 'problem', 'is', 'identifying', 'the', 'cause', 'of', 'the', 'problem', '.', 'Therefore', ',', 'we', 'need', 'to', 'first', 'understand', 'the', 'cause', 'of', 'global', 'warming', 'that', 'will', 'help', 'u', 'proceed', 'further', 'in', 'solving', 'it', '.', 'In', 'this', 'essay', 'on', 'Global', 'Warming', ',', 'we', 'will', 'see', 'the', 'cause', 'and', 'solution', 'of', 'Global', 'Warming', '.']\n"
     ]
    }
   ],
   "source": [
    "lemmatizer = WordNetLemmatizer()\n",
    "lemmati=[]\n",
    "for w in wordy:\n",
    "    for i in w:\n",
    "        lemma = lemmatizer.lemmatize(i)\n",
    "        lemmati.append(lemma)\n",
    "print(lemmati)"
   ]
  },
  {
   "cell_type": "code",
   "execution_count": 255,
   "metadata": {},
   "outputs": [
    {
     "data": {
      "text/plain": [
       "205"
      ]
     },
     "execution_count": 255,
     "metadata": {},
     "output_type": "execute_result"
    }
   ],
   "source": [
    "len(lemmati)"
   ]
  },
  {
   "cell_type": "code",
   "execution_count": 248,
   "metadata": {},
   "outputs": [
    {
     "name": "stderr",
     "output_type": "stream",
     "text": [
      "[nltk_data] Downloading package stopwords to\n",
      "[nltk_data]     C:\\Users\\ASIM\\AppData\\Roaming\\nltk_data...\n",
      "[nltk_data]   Package stopwords is already up-to-date!\n"
     ]
    },
    {
     "data": {
      "text/plain": [
       "True"
      ]
     },
     "execution_count": 248,
     "metadata": {},
     "output_type": "execute_result"
    }
   ],
   "source": [
    "nltk.download('stopwords')"
   ]
  },
  {
   "cell_type": "code",
   "execution_count": 249,
   "metadata": {},
   "outputs": [],
   "source": [
    "from nltk.corpus import stopwords"
   ]
  },
  {
   "cell_type": "code",
   "execution_count": 250,
   "metadata": {},
   "outputs": [
    {
     "name": "stdout",
     "output_type": "stream",
     "text": [
      "['i', 'me', 'my', 'myself', 'we', 'our', 'ours', 'ourselves', 'you', \"you're\", \"you've\", \"you'll\", \"you'd\", 'your', 'yours', 'yourself', 'yourselves', 'he', 'him', 'his', 'himself', 'she', \"she's\", 'her', 'hers', 'herself', 'it', \"it's\", 'its', 'itself', 'they', 'them', 'their', 'theirs', 'themselves', 'what', 'which', 'who', 'whom', 'this', 'that', \"that'll\", 'these', 'those', 'am', 'is', 'are', 'was', 'were', 'be', 'been', 'being', 'have', 'has', 'had', 'having', 'do', 'does', 'did', 'doing', 'a', 'an', 'the', 'and', 'but', 'if', 'or', 'because', 'as', 'until', 'while', 'of', 'at', 'by', 'for', 'with', 'about', 'against', 'between', 'into', 'through', 'during', 'before', 'after', 'above', 'below', 'to', 'from', 'up', 'down', 'in', 'out', 'on', 'off', 'over', 'under', 'again', 'further', 'then', 'once', 'here', 'there', 'when', 'where', 'why', 'how', 'all', 'any', 'both', 'each', 'few', 'more', 'most', 'other', 'some', 'such', 'no', 'nor', 'not', 'only', 'own', 'same', 'so', 'than', 'too', 'very', 's', 't', 'can', 'will', 'just', 'don', \"don't\", 'should', \"should've\", 'now', 'd', 'll', 'm', 'o', 're', 've', 'y', 'ain', 'aren', \"aren't\", 'couldn', \"couldn't\", 'didn', \"didn't\", 'doesn', \"doesn't\", 'hadn', \"hadn't\", 'hasn', \"hasn't\", 'haven', \"haven't\", 'isn', \"isn't\", 'ma', 'mightn', \"mightn't\", 'mustn', \"mustn't\", 'needn', \"needn't\", 'shan', \"shan't\", 'shouldn', \"shouldn't\", 'wasn', \"wasn't\", 'weren', \"weren't\", 'won', \"won't\", 'wouldn', \"wouldn't\"]\n"
     ]
    }
   ],
   "source": [
    "print(stopwords.words('english'))"
   ]
  },
  {
   "cell_type": "code",
   "execution_count": 251,
   "metadata": {},
   "outputs": [],
   "source": [
    "from nltk.corpus import stopwords"
   ]
  },
  {
   "cell_type": "code",
   "execution_count": 256,
   "metadata": {},
   "outputs": [
    {
     "name": "stdout",
     "output_type": "stream",
     "text": [
      "['[', \"'Global\", 'Warming', 'term', 'almost', 'everyone', 'familiar', '.', \"'\", ',', \"'But\", ',', 'meaning', 'still', 'clear', 'us', '.', \"'\", ',', \"'So\", ',', 'Global', 'warming', 'refers', 'gradual', 'rise', 'overall', 'temperature', 'atmosphere', 'Earth', '.', \"'\", ',', \"'There\", 'various', 'activities', 'taking', 'place', 'increasing', 'temperature', 'gradually', '.', \"'\", ',', \"'Global\", 'warming', 'melting', 'ice', 'glaciers', 'rapidly', '.', \"'\", ',', \"'This\", 'extremely', 'harmful', 'earth', 'well', 'humans', '.', \"'\", ',', \"'It\", 'quite', 'challenging', 'control', 'global', 'warming', ';', 'however', ',', 'unmanageable', '.', \"'\", ',', \"'The\", 'first', 'step', 'solving', 'problem', 'identifying', 'cause', 'problem', '.', \"'\", ',', \"'Therefore\", ',', 'need', 'first', 'understand', 'causes', 'global', 'warming', 'help', 'us', 'proceed', 'solving', '.', \"'\", ',', \"'In\", 'essay', 'Global', 'Warming', ',', 'see', 'causes', 'solutions', 'Global', 'Warming', '.', \"'\", ',', \"'The\", 'first', 'step', 'solving', 'problem', 'identifying', 'cause', 'problem', '.', \"'\", ',', \"'Therefore\", ',', 'need', 'first', 'understand', 'causes', 'global', 'warming', 'help', 'us', 'proceed', 'solving', '.', \"'\", ',', \"'In\", 'essay', 'Global', 'Warming', ',', 'see', 'causes', 'solutions', 'Global', 'Warming', '.', \"'\", ']']\n",
      "\n"
     ]
    }
   ],
   "source": [
    "stop_words = set(stopwords.words(\"english\"))    # We'll be setting English language\n",
    "sentences=str(sentences)\n",
    "wds = nltk.word_tokenize(sentences)       # First splitting our sentence into words\n",
    "\n",
    "without_stop_words = []              # Let's initialize an empty list where we'll be storing all the words except stop words\n",
    " \n",
    "for word in wds:                          # this will go through all the words one by one\n",
    "    if word not in stop_words:              # If a word is not presesnt in the list of stopwords (predefined list of stopwords) \n",
    "        without_stop_words.append(word)     # append that word in our list of words without stopwords \n",
    "        \n",
    "print(without_stop_words)                   # printing our list of words (without stop words)\n",
    "print()"
   ]
  },
  {
   "cell_type": "code",
   "execution_count": 257,
   "metadata": {},
   "outputs": [
    {
     "data": {
      "text/plain": [
       "153"
      ]
     },
     "execution_count": 257,
     "metadata": {},
     "output_type": "execute_result"
    }
   ],
   "source": [
    "len(without_stop_words)"
   ]
  },
  {
   "cell_type": "markdown",
   "metadata": {},
   "source": [
    "# Bag of words"
   ]
  },
  {
   "cell_type": "code",
   "execution_count": 267,
   "metadata": {},
   "outputs": [
    {
     "data": {
      "text/plain": [
       "['activities',\n",
       " 'almost',\n",
       " 'atmosphere',\n",
       " 'but',\n",
       " 'cause',\n",
       " 'causes',\n",
       " 'challenging',\n",
       " 'clear',\n",
       " 'control',\n",
       " 'earth',\n",
       " 'essay',\n",
       " 'everyone',\n",
       " 'extremely',\n",
       " 'familiar',\n",
       " 'first',\n",
       " 'glaciers',\n",
       " 'global',\n",
       " 'gradual',\n",
       " 'gradually',\n",
       " 'harmful',\n",
       " 'help',\n",
       " 'however',\n",
       " 'humans',\n",
       " 'ice',\n",
       " 'identifying',\n",
       " 'in',\n",
       " 'increasing',\n",
       " 'it',\n",
       " 'meaning',\n",
       " 'melting',\n",
       " 'need',\n",
       " 'overall',\n",
       " 'place',\n",
       " 'problem',\n",
       " 'proceed',\n",
       " 'quite',\n",
       " 'rapidly',\n",
       " 'refers',\n",
       " 'rise',\n",
       " 'see',\n",
       " 'so',\n",
       " 'solutions',\n",
       " 'solving',\n",
       " 'step',\n",
       " 'still',\n",
       " 'taking',\n",
       " 'temperature',\n",
       " 'term',\n",
       " 'the',\n",
       " 'there',\n",
       " 'therefore',\n",
       " 'this',\n",
       " 'understand',\n",
       " 'unmanageable',\n",
       " 'us',\n",
       " 'various',\n",
       " 'warming',\n",
       " 'well']"
      ]
     },
     "execution_count": 267,
     "metadata": {},
     "output_type": "execute_result"
    }
   ],
   "source": [
    "from sklearn.feature_extraction.text import CountVectorizer\n",
    "\n",
    "vectorizer = CountVectorizer()\n",
    "\n",
    "bag_of_words = vectorizer.fit_transform(without_stop_words)\n",
    "\n",
    "feature_names = vectorizer.get_feature_names()\n",
    "feature_names"
   ]
  },
  {
   "cell_type": "code",
   "execution_count": 268,
   "metadata": {},
   "outputs": [
    {
     "data": {
      "text/plain": [
       "58"
      ]
     },
     "execution_count": 268,
     "metadata": {},
     "output_type": "execute_result"
    }
   ],
   "source": [
    "len(feature_names)"
   ]
  },
  {
   "cell_type": "code",
   "execution_count": 269,
   "metadata": {},
   "outputs": [
    {
     "data": {
      "text/html": [
       "<div>\n",
       "<style scoped>\n",
       "    .dataframe tbody tr th:only-of-type {\n",
       "        vertical-align: middle;\n",
       "    }\n",
       "\n",
       "    .dataframe tbody tr th {\n",
       "        vertical-align: top;\n",
       "    }\n",
       "\n",
       "    .dataframe thead th {\n",
       "        text-align: right;\n",
       "    }\n",
       "</style>\n",
       "<table border=\"1\" class=\"dataframe\">\n",
       "  <thead>\n",
       "    <tr style=\"text-align: right;\">\n",
       "      <th></th>\n",
       "      <th>activities</th>\n",
       "      <th>almost</th>\n",
       "      <th>atmosphere</th>\n",
       "      <th>but</th>\n",
       "      <th>cause</th>\n",
       "      <th>causes</th>\n",
       "      <th>challenging</th>\n",
       "      <th>clear</th>\n",
       "      <th>control</th>\n",
       "      <th>earth</th>\n",
       "      <th>...</th>\n",
       "      <th>the</th>\n",
       "      <th>there</th>\n",
       "      <th>therefore</th>\n",
       "      <th>this</th>\n",
       "      <th>understand</th>\n",
       "      <th>unmanageable</th>\n",
       "      <th>us</th>\n",
       "      <th>various</th>\n",
       "      <th>warming</th>\n",
       "      <th>well</th>\n",
       "    </tr>\n",
       "  </thead>\n",
       "  <tbody>\n",
       "    <tr>\n",
       "      <th>0</th>\n",
       "      <td>0</td>\n",
       "      <td>0</td>\n",
       "      <td>0</td>\n",
       "      <td>0</td>\n",
       "      <td>0</td>\n",
       "      <td>0</td>\n",
       "      <td>0</td>\n",
       "      <td>0</td>\n",
       "      <td>0</td>\n",
       "      <td>0</td>\n",
       "      <td>...</td>\n",
       "      <td>0</td>\n",
       "      <td>0</td>\n",
       "      <td>0</td>\n",
       "      <td>0</td>\n",
       "      <td>0</td>\n",
       "      <td>0</td>\n",
       "      <td>0</td>\n",
       "      <td>0</td>\n",
       "      <td>0</td>\n",
       "      <td>0</td>\n",
       "    </tr>\n",
       "    <tr>\n",
       "      <th>1</th>\n",
       "      <td>0</td>\n",
       "      <td>0</td>\n",
       "      <td>0</td>\n",
       "      <td>0</td>\n",
       "      <td>0</td>\n",
       "      <td>0</td>\n",
       "      <td>0</td>\n",
       "      <td>0</td>\n",
       "      <td>0</td>\n",
       "      <td>0</td>\n",
       "      <td>...</td>\n",
       "      <td>0</td>\n",
       "      <td>0</td>\n",
       "      <td>0</td>\n",
       "      <td>0</td>\n",
       "      <td>0</td>\n",
       "      <td>0</td>\n",
       "      <td>0</td>\n",
       "      <td>0</td>\n",
       "      <td>0</td>\n",
       "      <td>0</td>\n",
       "    </tr>\n",
       "    <tr>\n",
       "      <th>2</th>\n",
       "      <td>0</td>\n",
       "      <td>0</td>\n",
       "      <td>0</td>\n",
       "      <td>0</td>\n",
       "      <td>0</td>\n",
       "      <td>0</td>\n",
       "      <td>0</td>\n",
       "      <td>0</td>\n",
       "      <td>0</td>\n",
       "      <td>0</td>\n",
       "      <td>...</td>\n",
       "      <td>0</td>\n",
       "      <td>0</td>\n",
       "      <td>0</td>\n",
       "      <td>0</td>\n",
       "      <td>0</td>\n",
       "      <td>0</td>\n",
       "      <td>0</td>\n",
       "      <td>0</td>\n",
       "      <td>1</td>\n",
       "      <td>0</td>\n",
       "    </tr>\n",
       "    <tr>\n",
       "      <th>3</th>\n",
       "      <td>0</td>\n",
       "      <td>0</td>\n",
       "      <td>0</td>\n",
       "      <td>0</td>\n",
       "      <td>0</td>\n",
       "      <td>0</td>\n",
       "      <td>0</td>\n",
       "      <td>0</td>\n",
       "      <td>0</td>\n",
       "      <td>0</td>\n",
       "      <td>...</td>\n",
       "      <td>0</td>\n",
       "      <td>0</td>\n",
       "      <td>0</td>\n",
       "      <td>0</td>\n",
       "      <td>0</td>\n",
       "      <td>0</td>\n",
       "      <td>0</td>\n",
       "      <td>0</td>\n",
       "      <td>0</td>\n",
       "      <td>0</td>\n",
       "    </tr>\n",
       "    <tr>\n",
       "      <th>4</th>\n",
       "      <td>0</td>\n",
       "      <td>1</td>\n",
       "      <td>0</td>\n",
       "      <td>0</td>\n",
       "      <td>0</td>\n",
       "      <td>0</td>\n",
       "      <td>0</td>\n",
       "      <td>0</td>\n",
       "      <td>0</td>\n",
       "      <td>0</td>\n",
       "      <td>...</td>\n",
       "      <td>0</td>\n",
       "      <td>0</td>\n",
       "      <td>0</td>\n",
       "      <td>0</td>\n",
       "      <td>0</td>\n",
       "      <td>0</td>\n",
       "      <td>0</td>\n",
       "      <td>0</td>\n",
       "      <td>0</td>\n",
       "      <td>0</td>\n",
       "    </tr>\n",
       "  </tbody>\n",
       "</table>\n",
       "<p>5 rows × 58 columns</p>\n",
       "</div>"
      ],
      "text/plain": [
       "   activities  almost  atmosphere  but  cause  causes  challenging  clear  \\\n",
       "0           0       0           0    0      0       0            0      0   \n",
       "1           0       0           0    0      0       0            0      0   \n",
       "2           0       0           0    0      0       0            0      0   \n",
       "3           0       0           0    0      0       0            0      0   \n",
       "4           0       1           0    0      0       0            0      0   \n",
       "\n",
       "   control  earth  ...  the  there  therefore  this  understand  unmanageable  \\\n",
       "0        0      0  ...    0      0          0     0           0             0   \n",
       "1        0      0  ...    0      0          0     0           0             0   \n",
       "2        0      0  ...    0      0          0     0           0             0   \n",
       "3        0      0  ...    0      0          0     0           0             0   \n",
       "4        0      0  ...    0      0          0     0           0             0   \n",
       "\n",
       "   us  various  warming  well  \n",
       "0   0        0        0     0  \n",
       "1   0        0        0     0  \n",
       "2   0        0        1     0  \n",
       "3   0        0        0     0  \n",
       "4   0        0        0     0  \n",
       "\n",
       "[5 rows x 58 columns]"
      ]
     },
     "execution_count": 269,
     "metadata": {},
     "output_type": "execute_result"
    }
   ],
   "source": [
    "import pandas as pd\n",
    "feature = pd.DataFrame(bag_of_words.toarray(), columns = feature_names)\n",
    "feature.head()"
   ]
  }
 ],
 "metadata": {
  "kernelspec": {
   "display_name": "Python 3",
   "language": "python",
   "name": "python3"
  },
  "language_info": {
   "codemirror_mode": {
    "name": "ipython",
    "version": 3
   },
   "file_extension": ".py",
   "mimetype": "text/x-python",
   "name": "python",
   "nbconvert_exporter": "python",
   "pygments_lexer": "ipython3",
   "version": "3.8.3"
  }
 },
 "nbformat": 4,
 "nbformat_minor": 4
}
